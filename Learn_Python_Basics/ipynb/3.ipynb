{
 "cells": [
  {
   "cell_type": "markdown",
   "metadata": {},
   "source": [
    "# Python Data Types\n",
    "## Built-in Data Types\n",
    "In programming, data type is an important concept.\n",
    "\n",
    "Variables can store data of different types, and different types can do different things.\n",
    "\n",
    "Python has the following data types built-in by default, in these categories:"
   ]
  },
  {
   "cell_type": "markdown",
   "metadata": {},
   "source": [
    "|Category|Python data type|\n",
    "|-|:-|\n",
    "|Text Type:|str|\n",
    "|Numeric Types:|int, float, complex|\n",
    "|Sequence Types:|\t|list, tuple, range|\n",
    "|Mapping Type:|\tdict|\n",
    "|Set Types:|\tset, frozenset|\n",
    "|Boolean Type:|\tbool|\n",
    "|Binary Types:|\tbytes, bytearray, memoryview|"
   ]
  },
  {
   "cell_type": "markdown",
   "metadata": {},
   "source": [
    "## Getting the Data Type\n",
    "You can get the data type of any object by using the type() function:\n",
    "\n",
    "### Example\n",
    "Print the data type of the variable x:"
   ]
  },
  {
   "cell_type": "code",
   "execution_count": 1,
   "metadata": {},
   "outputs": [
    {
     "name": "stdout",
     "output_type": "stream",
     "text": [
      "<class 'int'>\n"
     ]
    }
   ],
   "source": [
    "x = 5\n",
    "print(type(x))"
   ]
  },
  {
   "cell_type": "markdown",
   "metadata": {},
   "source": [
    "## Setting the Data Type\n",
    "In Python, the data type is set when you assign a value to a variable:"
   ]
  },
  {
   "cell_type": "markdown",
   "metadata": {},
   "source": [
    "\n",
    "    x = \"Hello World\"\tstr\t\n",
    "    x = 20\tint\t\n",
    "    x = 20.5\tfloat\t\n",
    "    x = 1j\tcomplex\t\n",
    "    x = [\"apple\", \"banana\", \"cherry\"]\tlist\t\n",
    "    x = (\"apple\", \"banana\", \"cherry\")\ttuple\t\n",
    "    x = range(6)\trange\t\n",
    "    x = {\"name\" : \"John\", \"age\" : 36}\tdict\t\n",
    "    x = {\"apple\", \"banana\", \"cherry\"}\tset\t\n",
    "    x = frozenset({\"apple\", \"banana\", \"cherry\"})\tfrozenset\t\n",
    "    x = True\tbool\t\n",
    "    x = b\"Hello\"\tbytes\t\n",
    "    x = bytearray(5)\tbytearray\t\n",
    "    x = memoryview(bytes(5))"
   ]
  },
  {
   "cell_type": "markdown",
   "metadata": {},
   "source": [
    "## Setting the Specific Data Type\n",
    "If you want to specify the data type, you can use the following constructor functions:"
   ]
  },
  {
   "cell_type": "markdown",
   "metadata": {},
   "source": [
    "    x = str(\"Hello World\")\tstr\t\n",
    "    x = int(20)\tint\t\n",
    "    x = float(20.5)\tfloat\t\n",
    "    x = complex(1j)\tcomplex\t\n",
    "    x = list((\"apple\", \"banana\", \"cherry\"))\tlist\t\n",
    "    x = tuple((\"apple\", \"banana\", \"cherry\"))\ttuple\t\n",
    "    x = range(6)\trange\t\n",
    "    x = dict(name=\"John\", age=36)\tdict\t\n",
    "    x = set((\"apple\", \"banana\", \"cherry\"))\tset\t\n",
    "    x = frozenset((\"apple\", \"banana\", \"cherry\"))\tfrozenset\t\n",
    "    x = bool(5)\tbool\t\n",
    "    x = bytes(5)\tbytes\t\n",
    "    x = bytearray(5)\tbytearray\t\n",
    "    x = memoryview(bytes(5))\tmemoryview"
   ]
  },
  {
   "cell_type": "code",
   "execution_count": null,
   "metadata": {},
   "outputs": [],
   "source": []
  }
 ],
 "metadata": {
  "kernelspec": {
   "display_name": "Python 3",
   "language": "python",
   "name": "python3"
  },
  "language_info": {
   "codemirror_mode": {
    "name": "ipython",
    "version": 3
   },
   "file_extension": ".py",
   "mimetype": "text/x-python",
   "name": "python",
   "nbconvert_exporter": "python",
   "pygments_lexer": "ipython3",
   "version": "3.6.8"
  }
 },
 "nbformat": 4,
 "nbformat_minor": 2
}
