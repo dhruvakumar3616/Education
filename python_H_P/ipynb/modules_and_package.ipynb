{
 "cells": [
  {
   "cell_type": "markdown",
   "metadata": {},
   "source": [
    "# Python Modules\n",
    "Modules refer to a file containing Python statements and definitions.\n",
    "\n",
    "A file containing Python code, for e.g.: example.py, is called a module and its module name would be `example`.\n",
    "\n",
    "We use modules to break down large programs into small manageable and organized files. Furthermore, modules provide reusability of code.\n",
    "\n",
    "We can define our most used functions in a module and import it, instead of copying their definitions into different programs.\n",
    "\n",
    "Let us create a module. Type the following and save it as example.py.\n",
    "___\n",
    "```python\n",
    "# Python Module example\n",
    "\n",
    "def add(a, b):\n",
    "    \n",
    "    \"\"\"This program adds two\n",
    "    numbers and return the result\"\"\"\n",
    "    \n",
    "    result = a + b\n",
    "    return result\n",
    "    \n",
    "```\n",
    "___"
   ]
  },
  {
   "cell_type": "markdown",
   "metadata": {},
   "source": [
    "Here, we have defined a function `add()` inside a module named `example`. The function takes in two numbers and returns their sum.\n",
    "\n",
    "### How to import modules in Python?\n",
    "We can import the definitions inside a module to another module or the interactive interpreter in Python.\n",
    "\n",
    "We use the import keyword to do this. To import our previously defined module example we type the following in the Python prompt."
   ]
  },
  {
   "cell_type": "code",
   "execution_count": 2,
   "metadata": {},
   "outputs": [],
   "source": [
    "import example"
   ]
  },
  {
   "cell_type": "markdown",
   "metadata": {},
   "source": [
    "This does not enter the names of the functions defined in example directly in the current symbol table. It only enters the module name example there.\n",
    "\n",
    "Using the module name we can access the function using dot (.) operation. For example:"
   ]
  },
  {
   "cell_type": "code",
   "execution_count": 3,
   "metadata": {},
   "outputs": [
    {
     "data": {
      "text/plain": [
       "9.5"
      ]
     },
     "execution_count": 3,
     "metadata": {},
     "output_type": "execute_result"
    }
   ],
   "source": [
    " example.add(4,5.5)"
   ]
  },
  {
   "cell_type": "markdown",
   "metadata": {},
   "source": [
    "__Python has a ton of standard modules available.__\n",
    "\n",
    "You can check out the full list of Python standard modules and what they are for.\n",
    "\n",
    "These files are in the Lib directory inside the location where you installed Python.\n",
    "\n",
    "Standard modules can be imported the same way as we import our user-defined modules.\n",
    "\n",
    "There are various ways to import modules. They are listed as follows."
   ]
  },
  {
   "cell_type": "markdown",
   "metadata": {},
   "source": [
    "### Python import statement\n",
    "We can import a module using import statement and access the definitions inside it using the dot operator as described above. Here is an example.\n"
   ]
  },
  {
   "cell_type": "code",
   "execution_count": 4,
   "metadata": {},
   "outputs": [
    {
     "name": "stdout",
     "output_type": "stream",
     "text": [
      "The value of pi is 3.141592653589793\n"
     ]
    }
   ],
   "source": [
    "# import statement example\n",
    "# to import standard module math\n",
    "import math\n",
    "print(\"The value of pi is\", math.pi)"
   ]
  },
  {
   "cell_type": "markdown",
   "metadata": {},
   "source": [
    "### Python Module Search Path\n",
    "While importing a module, Python looks at several places. Interpreter first looks for a built-in module then (if not found) into a list of directories defined in sys.path. The search is in this order.\n",
    "+ The current directory.\n",
    "+ PYTHONPATH (an environment variable with a list of directory).\n",
    "+ The installation-dependent default directory."
   ]
  },
  {
   "cell_type": "code",
   "execution_count": 5,
   "metadata": {},
   "outputs": [],
   "source": [
    "import sys"
   ]
  },
  {
   "cell_type": "code",
   "execution_count": 6,
   "metadata": {},
   "outputs": [
    {
     "data": {
      "text/plain": [
       "['C:\\\\Users\\\\dhruva\\\\AppData\\\\Local\\\\conda\\\\conda\\\\envs\\\\py36\\\\python36.zip',\n",
       " 'C:\\\\Users\\\\dhruva\\\\AppData\\\\Local\\\\conda\\\\conda\\\\envs\\\\py36\\\\DLLs',\n",
       " 'C:\\\\Users\\\\dhruva\\\\AppData\\\\Local\\\\conda\\\\conda\\\\envs\\\\py36\\\\lib',\n",
       " 'C:\\\\Users\\\\dhruva\\\\AppData\\\\Local\\\\conda\\\\conda\\\\envs\\\\py36',\n",
       " '',\n",
       " 'C:\\\\Users\\\\dhruva\\\\AppData\\\\Local\\\\conda\\\\conda\\\\envs\\\\py36\\\\lib\\\\site-packages',\n",
       " 'C:\\\\Users\\\\dhruva\\\\AppData\\\\Local\\\\conda\\\\conda\\\\envs\\\\py36\\\\lib\\\\site-packages\\\\IPython\\\\extensions',\n",
       " 'C:\\\\Users\\\\dhruva\\\\.ipython']"
      ]
     },
     "execution_count": 6,
     "metadata": {},
     "output_type": "execute_result"
    }
   ],
   "source": [
    "sys.path"
   ]
  },
  {
   "cell_type": "markdown",
   "metadata": {},
   "source": [
    "We can add modify this list to add our own path.\n",
    "#### The dir() built-in function\n",
    "We can use the dir() function to find out names that are defined inside a module.\n",
    "For example, we have defined a function add() in the module example that we had in the beginning."
   ]
  },
  {
   "cell_type": "code",
   "execution_count": 7,
   "metadata": {},
   "outputs": [
    {
     "data": {
      "text/plain": [
       "['__builtins__',\n",
       " '__cached__',\n",
       " '__doc__',\n",
       " '__file__',\n",
       " '__loader__',\n",
       " '__name__',\n",
       " '__package__',\n",
       " '__spec__',\n",
       " 'add']"
      ]
     },
     "execution_count": 7,
     "metadata": {},
     "output_type": "execute_result"
    }
   ],
   "source": [
    "dir(example)"
   ]
  },
  {
   "cell_type": "markdown",
   "metadata": {},
   "source": [
    "Here, we can see a sorted list of names (along with `add`). All other names that begin with an underscore are default Python attributes associated with the module (we did not define them ourself).\n",
    "\n",
    "For example, the `__name__` attribute contains the name of the module."
   ]
  },
  {
   "cell_type": "code",
   "execution_count": 9,
   "metadata": {},
   "outputs": [
    {
     "data": {
      "text/plain": [
       "'example'"
      ]
     },
     "execution_count": 9,
     "metadata": {},
     "output_type": "execute_result"
    }
   ],
   "source": [
    "import example\n",
    "example.__name__"
   ]
  },
  {
   "cell_type": "markdown",
   "metadata": {},
   "source": [
    "All the names defined in our current namespace can be found out using the `dir()`function without any arguments."
   ]
  },
  {
   "cell_type": "code",
   "execution_count": 12,
   "metadata": {},
   "outputs": [
    {
     "data": {
      "text/plain": [
       "['In',\n",
       " 'Out',\n",
       " '_',\n",
       " '_3',\n",
       " '_6',\n",
       " '_7',\n",
       " '_9',\n",
       " '__',\n",
       " '___',\n",
       " '__builtin__',\n",
       " '__builtins__',\n",
       " '__doc__',\n",
       " '__loader__',\n",
       " '__name__',\n",
       " '__package__',\n",
       " '__spec__',\n",
       " '_dh',\n",
       " '_i',\n",
       " '_i1',\n",
       " '_i10',\n",
       " '_i11',\n",
       " '_i12',\n",
       " '_i2',\n",
       " '_i3',\n",
       " '_i4',\n",
       " '_i5',\n",
       " '_i6',\n",
       " '_i7',\n",
       " '_i8',\n",
       " '_i9',\n",
       " '_ih',\n",
       " '_ii',\n",
       " '_iii',\n",
       " '_oh',\n",
       " 'a',\n",
       " 'b',\n",
       " 'example',\n",
       " 'exit',\n",
       " 'get_ipython',\n",
       " 'math',\n",
       " 'quit',\n",
       " 'sys']"
      ]
     },
     "execution_count": 12,
     "metadata": {},
     "output_type": "execute_result"
    }
   ],
   "source": [
    "a = 1\n",
    "b = \"hello\"\n",
    "import math\n",
    "dir()"
   ]
  },
  {
   "cell_type": "markdown",
   "metadata": {},
   "source": [
    "# Python Package\n",
    "___\n",
    "We don't usually store all of our files in our computer in the same location. We use a well-organized hierarchy of directories for easier access.\n",
    "\n",
    "Similar files are kept in the same directory, for example, we may keep all the songs in\n",
    "the \"music\" directory. Analogous to this, Python has packages for directories and modulesfor files.\n",
    "\n",
    "As our application program grows larger in size with a lot of modules, we place similar modules in one package and different modules in different packages. This makes a project (program) easy to manage and conceptually clear.\n",
    "\n",
    "Similar, as a directory can contain sub-directories and files, a Python package can have sub-packages and modules.\n",
    "\n",
    "A directory must contain a file named __init__.py in order for Python to consider it as a package. This file can be left empty but we generally place the initialization code for that package in this file.\n",
    "\n",
    "Here is an example. Suppose we are developing a game, one possible organization of packages and modules could be as shown in the figure below."
   ]
  },
  {
   "cell_type": "markdown",
   "metadata": {},
   "source": [
    "### Importing module from a package\n",
    "We can import modules from packages using the dot (.) operator.\n",
    "\n",
    "For example, if want to import the start module in the above example, it is done as follows.\n",
    "\n",
    "```python\n",
    "import Game.Level.start\n",
    "```\n",
    "\n",
    "Now if this module contains a function named select_difficulty(), we must use the full name to reference it.\n",
    "\n",
    "```python\n",
    "Game.Level.start.select_difficulty(2)\n",
    "```\n",
    "\n",
    "If this construct seems lengthy, we can import the module without the package prefix as follows.\n",
    "\n",
    "```python\n",
    "from Game.Level import start\n",
    "```\n",
    "\n",
    "We can now call the function simply as follows.\n",
    "\n",
    "```python\n",
    "start.select_difficulty(2)\n",
    "```\n",
    "\n",
    "Yet another way of importing just the required function (or class or variable) form a module within a package would be as follows.\n",
    "\n",
    "```python\n",
    "from Game.Level.start import select_difficulty\n",
    "```\n",
    "\n",
    "Now we can directly call this function.\n",
    "```python\n",
    "select_difficulty(2)\n",
    "```\n",
    "\n",
    "Although easier, this method is not recommended. Using the full namespace avoids confusion and prevents two same identifier names from colliding.\n",
    "\n",
    "While importing packages, Python looks in the list of directories defined in sys.path, similar as for module search path."
   ]
  },
  {
   "cell_type": "code",
   "execution_count": null,
   "metadata": {},
   "outputs": [],
   "source": []
  }
 ],
 "metadata": {
  "kernelspec": {
   "display_name": "Python 3",
   "language": "python",
   "name": "python3"
  },
  "language_info": {
   "codemirror_mode": {
    "name": "ipython",
    "version": 3
   },
   "file_extension": ".py",
   "mimetype": "text/x-python",
   "name": "python",
   "nbconvert_exporter": "python",
   "pygments_lexer": "ipython3",
   "version": "3.6.8"
  }
 },
 "nbformat": 4,
 "nbformat_minor": 2
}
