{
 "cells": [
  {
   "cell_type": "markdown",
   "metadata": {},
   "source": [
    "## Python if Statement Syntax"
   ]
  },
  {
   "cell_type": "markdown",
   "metadata": {},
   "source": [
    "```python\n",
    "if test_expression:\n",
    "    statement(s)\n",
    "```"
   ]
  },
  {
   "cell_type": "markdown",
   "metadata": {},
   "source": [
    "Here, the program evaluates the `test_expression` and will execute statement(s) only if\n",
    "the text expression is `True`.\n",
    "\n",
    "If the text_expression is `False`, the statement(s) is not executed.\n",
    "\n",
    "In Python, the body of the `if` statement is indicated by the indentation. Body starts\n",
    "with an indentation and the first unindented line marks the end.\n",
    "\n",
    "Python interprets non-zero values as `True`. `None` and `0` are interpreted as False."
   ]
  },
  {
   "cell_type": "markdown",
   "metadata": {},
   "source": [
    "#### Python if Statement Flowchart\n",
    "\n",
    "<img src='img/if_statement.jpg'>"
   ]
  },
  {
   "cell_type": "markdown",
   "metadata": {},
   "source": [
    "#### Example: Python if Statement"
   ]
  },
  {
   "cell_type": "code",
   "execution_count": 2,
   "metadata": {},
   "outputs": [
    {
     "name": "stdout",
     "output_type": "stream",
     "text": [
      "3\n",
      "3 is a positive number.\n",
      "This is always printed.\n"
     ]
    }
   ],
   "source": [
    "# If the number is positive, we print an appropriate message\n",
    "num = int(input())\n",
    "if num > 0:\n",
    "    print(num, \"is a positive number.\")\n",
    "print(\"This is always printed.\")"
   ]
  },
  {
   "cell_type": "markdown",
   "metadata": {},
   "source": [
    "In the above example, `num > 0` is the test expression.\n",
    "\n",
    "The body of `if` is executed only if this evaluates to `True`.\n",
    "\n",
    "When variable `num` is equal to 3, test expression is true and body inside body of `if` is executed.\n",
    "\n",
    "If variable `num` is equal to -1, test expression is false and body inside body of `if` is\n",
    "skipped\n",
    "\n",
    "The `print()` statement falls outside of the `if` block (unindented). Hence, it is executed\n",
    "regardless of the test expression."
   ]
  },
  {
   "cell_type": "markdown",
   "metadata": {},
   "source": [
    "## Python if...else Statement\n",
    "### Syntax of if...else\n",
    "\n",
    "```python\n",
    "if test expression:\n",
    "    Body of if\n",
    "else:\n",
    "    Body of else\n",
    "```\n",
    "\n",
    "The `if..else` statement evaluates `test expression` and will execute body of `if` only when test condition is `True`.\n",
    "\n",
    "If the condition is `False`, body of `else` is executed. Indentation is used to separate the blocks."
   ]
  },
  {
   "cell_type": "markdown",
   "metadata": {},
   "source": [
    "### Python if..else Flowchart\n",
    "\n",
    "<img src='img/if_else.png'>"
   ]
  },
  {
   "cell_type": "markdown",
   "metadata": {},
   "source": [
    "#### Example of `if...else`\n",
    "###### Program checks if the number is positive or negative and displays an appropriate message"
   ]
  },
  {
   "cell_type": "code",
   "execution_count": 1,
   "metadata": {},
   "outputs": [
    {
     "name": "stdout",
     "output_type": "stream",
     "text": [
      "5\n",
      "Positive or Zero\n",
      "This is always printed\n"
     ]
    }
   ],
   "source": [
    "num = float(input())\n",
    "# Try these two variations as well.\n",
    "# num = -5\n",
    "# num = 0\n",
    "if num >= 0:\n",
    "    print(\"Positive or Zero\")\n",
    "else:\n",
    "    print(\"Negative number\")\n",
    "print('This is always printed')"
   ]
  },
  {
   "cell_type": "markdown",
   "metadata": {},
   "source": [
    "In the above example, when `num` is equal to 3, the test expression is true and body of `if` is executed and `body` of else is skipped.\n",
    "\n",
    "If `num` is equal to -5, the test expression is false and body of `else` is executed and body of if is skipped.\n",
    "\n",
    "If `num` is equal to 0, the test expression is true and body of `if` is executed and `body` of else is skipped."
   ]
  },
  {
   "cell_type": "markdown",
   "metadata": {},
   "source": [
    "## Python `if...elif...else` Statement\n",
    "#### Syntax of `if...elif...else`\n",
    "```python\n",
    "if test expression:\n",
    "    Body of if\n",
    "elif test expression:\n",
    "    Body of elif\n",
    "else:\n",
    "    Body of else\n",
    "```"
   ]
  },
  {
   "cell_type": "markdown",
   "metadata": {},
   "source": [
    "The `elif` is short for else if. It allows us to check for multiple expressions.\n",
    "\n",
    "If the condition for `if` is `False`, it checks the condition of the next `elif` block and so on.\n",
    "\n",
    "If all the conditions are `False`, body of else is executed.\n",
    "\n",
    "Only one block among the several `if...elif...else` blocks is executed according to the condition.\n",
    "\n",
    "The `if` block can have only one `else` block. But it can have multiple `elif` blocks."
   ]
  },
  {
   "cell_type": "markdown",
   "metadata": {},
   "source": [
    "### Flowchart of `if...elif...else`\n",
    "\n",
    "<img src='img/if_elif.jpg'>"
   ]
  },
  {
   "cell_type": "markdown",
   "metadata": {},
   "source": [
    "#### Example of if...elif...else"
   ]
  },
  {
   "cell_type": "code",
   "execution_count": 8,
   "metadata": {},
   "outputs": [
    {
     "name": "stdout",
     "output_type": "stream",
     "text": [
      "-1\n",
      "Negative number\n"
     ]
    }
   ],
   "source": [
    "num = float(input())\n",
    "# Try these two variations as well:\n",
    "# num = 3.4\n",
    "# num = 0\n",
    "# num = -4.5\n",
    "if num > 0:\n",
    "    print(\"Positive number\")\n",
    "elif num == 0:\n",
    "    print(\"Zero\")\n",
    "else:\n",
    "    print(\"Negative number\")"
   ]
  },
  {
   "cell_type": "markdown",
   "metadata": {},
   "source": [
    "When variable `num` is positive, Positive number is printed.\n",
    "\n",
    "If `num` is equal to 0, Zero is printed.\n",
    "\n",
    "If `num` is negative, Negative number is printed"
   ]
  },
  {
   "cell_type": "markdown",
   "metadata": {},
   "source": [
    "### Python Nested if statements\n",
    "We can have a `if...elif...else` statement inside another `if...elif...else` statement. This is called nesting in computer programming.\n",
    "\n",
    "Any number of these statements can be nested inside one another. Indentation is the only way to figure out the level of nesting. This can get confusing, so must be avoided\n",
    "if we can."
   ]
  },
  {
   "cell_type": "markdown",
   "metadata": {},
   "source": [
    "### Python Nested if Example"
   ]
  },
  {
   "cell_type": "code",
   "execution_count": 12,
   "metadata": {},
   "outputs": [
    {
     "name": "stdout",
     "output_type": "stream",
     "text": [
      "Enter a number: -3\n",
      "Negative number\n"
     ]
    }
   ],
   "source": [
    "# In this program, we input a number# check if the number is positive or\n",
    "# negative or zero and display\n",
    "# an appropriate message# This time we use nested if\n",
    "\n",
    "num = float(input(\"Enter a number: \"))\n",
    "if num >= 0:\n",
    "    if num == 0:\n",
    "        print(\"Zero\")\n",
    "    else:\n",
    "        print(\"Positive number\")\n",
    "else:\n",
    "    print(\"Negative number\")"
   ]
  },
  {
   "cell_type": "code",
   "execution_count": null,
   "metadata": {},
   "outputs": [],
   "source": []
  }
 ],
 "metadata": {
  "kernelspec": {
   "display_name": "Python 3",
   "language": "python",
   "name": "python3"
  },
  "language_info": {
   "codemirror_mode": {
    "name": "ipython",
    "version": 3
   },
   "file_extension": ".py",
   "mimetype": "text/x-python",
   "name": "python",
   "nbconvert_exporter": "python",
   "pygments_lexer": "ipython3",
   "version": "3.6.8"
  }
 },
 "nbformat": 4,
 "nbformat_minor": 2
}
