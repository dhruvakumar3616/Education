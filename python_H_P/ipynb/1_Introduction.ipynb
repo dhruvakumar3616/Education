{
 "cells": [
  {
   "cell_type": "markdown",
   "metadata": {},
   "source": [
    "## Introduction to Python\n",
    "Python is an interpreted high-level programming language for general-purpose programming. Created by Guido van Rossum and first released in 1991, Python has a design philosophy that emphasizes code readability, and a syntax that allows programmers to express concepts in fewer lines of code,notably using significant whitespace. It provides constructs that enable clear programming on both small and large scales\n",
    "\n",
    "Python is a cross-platform programming language, meaning, it runs on multiple platforms like Windows, Mac OS X, Linux, Unix and has even been ported to the Java and .NET virtual machines. It is free and open source.\n",
    "\n",
    "Even though most of today’s Linux and Mac have Python preinstalled in it, the version might be out-of-date. So, it is always a good idea to install the most current version. You can download the latest version of Python and install it.\n",
    "\n",
    "## Future Of Python \n",
    "\n",
    "It is no surprise that Python is a very popular programming language. It is very interesting and useful for the developers due to many things. However the three top reasons people may decide to learn Python could be:\n",
    "\n",
    "1. Machine learning: \n",
    "\n",
    "Machine learning is definitely on the rise nowadays. The ability of computers to learn from examples instead of operating strictly according to previously written rules is an exciting way of solving problems. \n",
    "> Python is the most popular language for machine learning and data science.\n",
    "\n",
    "2. Demand for Python Developers\n",
    "There is a continuous demand for Python Programmers, simply becausePython is a very popular programming language, which is currently high in demand. There is no surprise there because it is a general purpose language which is described as easy by many programmers. It is on the rise which means that there is more demand to hire Python Developers since more companies are choosing to develop their software in Python instead of another programming language.\n",
    "\n",
    "3. Our favourite framework - Django\n",
    "It is an awesome framework. In fact it is the most popular Python framework is definitely Django. Its characteristic feature is that within a single package there is everything you need to build a web application, from low- to high-end.\n",
    "\n",
    "## Features of Python\n",
    "### Simple\n",
    "Python is a simple and minimalistic language. Reading a good Python program feels almost like reading English (but very strict English!). This pseudo-code nature of Python is one of its greatest strengths. It allows you to concentrate on the solution to the problem rather than the syntax i.e. the language itself.\n",
    "\n",
    "### Easy to Learn\n",
    "As you will see, Python is extremely easy to get started with. Python has an extraordinarily simple syntax as already mentioned.\n",
    "\n",
    "### Free and Open Source\n",
    "Python is an example of a FLOSS (Free/Libre and Open Source Software). In simple terms, you can freely distribute copies of this software, read the software's source code, make changes to it, use pieces of it in new free programs, and that you know you can do these things. FLOSS is based on the concept of a community which shares knowledge. This is one of the reasons why Python is so good - it has been created and improved by a community who just want to see a better Python.\n",
    "\n",
    "### High-level Language\n",
    "When you write programs in Python, you never need to bother about low-level details such as managing the memory used by your program.\n",
    "\n",
    "### Portable\n",
    "Due to its open-source nature, Python has been ported (i.e. changed to make it work on) to many many platforms. All your Python programs will work on any of these platforms without requiring any changes at all. However, you must be careful enough to avoid any system-dependent features.\n",
    "You can use Python on Linux, Windows, Macintosh, Solaris, OS/2, Amiga, AROS, AS/400, BeOS, OS/390, z/OS, Palm OS, QNX, VMS, Psion, Acorn RISC OS, VxWorks, PlayStation, Sharp Zaurus, Windows CE and PocketPC !\n",
    "\n",
    "### Interpreted\n",
    "__This requires a little explanation.__\n",
    "A program written in a compiled language like C or C++ is translated from the source language i.e. C/C++ into a language spoken by your computer (binary code i.e. 0s and 1s) using a compiler with various flags and options. When you run the program, the linker/loader software just stores the binary code in the computer's memory and starts executing from the first instruction in the program.\n",
    "\n",
    "When you use an interpreted language like Python, there is no separate compilation and execution steps. You just run the program from the source code. Internally, Python converts the source code into an intermediate form called bytecodes and then translates this into the native language of your specific computer and then runs it. All this makes using Python so much easier. You just run your programs - you never have to worry about linking and loading with libraries, etc. They are also more portable this way because you can just copy your Python program into another system of any kind and it just works!\n",
    "\n",
    "### Object Oriented\n",
    "Python supports procedure-oriented programming as well as object-oriented programming. In procedure-oriented languages, the program is built around procedures or functions which are nothing but reusable pieces of programs.\n",
    "\n",
    "In object-oriented languages, the program is built around objects which combine data and functionality. Python has a very powerful but simple way of doing object-oriented programming, especially, when compared to languages like C++ or Java.\n",
    "\n",
    "### Extensible\n",
    "If you need a critical piece of code to run very fast, you can achieve this by writing that piece of code in C, and then combine that with your Python program.\n",
    "\n",
    "### Embeddable\n",
    "You can embed Python within your C/C++ program to give scripting capabilities for your program's users.\n",
    "\n",
    "\n",
    "### Extensive Libraries\n",
    "The Python Standard Library is huge indeed. It can help you do various things involving regular expressions, documentation generation, unit testing, threading, databases, web browsers, CGI, ftp, email, XML, XML-RPC, HTML, WAV files, cryptography, GUI(graphical user interfaces) using Tk, and also other system-dependent stuff. Remember, all this is always available wherever Python is installed. This is called the \"batteries included\" philosophy of Python.\n",
    "\n",
    "Besides the standard library, there are various other high-quality libraries such as the Python Imaging Library which is an amazingly simple image manipulation library.\n",
    "\n",
    "### Integrated Development Environment (IDE) \n",
    "We can use any text editing software to write a Python script file. \n",
    "\n",
    "We just need to save it with the .py extension. But using an IDE can make our life a lot easier. IDE is a piece of software that provides useful features like code hinting, syntax highlighting and checking, file explorers etc. to the programmer for application development.\n",
    "\n",
    "Using an IDE can get rid of redundant tasks and significantly decrease the time required for application development. \n",
    "\n",
    "IDEL is a graphical user interface (GUI) that can be installed along with the Python programming language and is available from the official website. \n",
    "\n",
    "We can also use other commercial or free IDE according to our preference. We have used the PyScripter IDE for our testing and we recommend the same. It is free and open source."
   ]
  },
  {
   "cell_type": "markdown",
   "metadata": {},
   "source": [
    "## Hello World Example \n",
    "Now that we have Python up and running, we can continue on to write our first Python program. \n",
    "Type the following code in any text editor or an IDE and save it as `helloWorld.py`"
   ]
  },
  {
   "cell_type": "markdown",
   "metadata": {},
   "source": [
    "> print(\"Hello world!\")"
   ]
  },
  {
   "cell_type": "markdown",
   "metadata": {},
   "source": [
    "We should be able to see the output as follows:"
   ]
  },
  {
   "cell_type": "markdown",
   "metadata": {},
   "source": [
    "> Hello world!"
   ]
  },
  {
   "cell_type": "code",
   "execution_count": null,
   "metadata": {},
   "outputs": [],
   "source": []
  }
 ],
 "metadata": {
  "kernelspec": {
   "display_name": "Python 3",
   "language": "python",
   "name": "python3"
  },
  "language_info": {
   "codemirror_mode": {
    "name": "ipython",
    "version": 3
   },
   "file_extension": ".py",
   "mimetype": "text/x-python",
   "name": "python",
   "nbconvert_exporter": "python",
   "pygments_lexer": "ipython3",
   "version": "3.6.8"
  }
 },
 "nbformat": 4,
 "nbformat_minor": 2
}
